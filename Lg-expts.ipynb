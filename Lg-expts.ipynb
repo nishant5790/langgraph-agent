{
 "cells": [
  {
   "cell_type": "code",
   "execution_count": 14,
   "id": "8acf34ac-f1ac-4732-b9a9-54a6e2b1a2d4",
   "metadata": {},
   "outputs": [],
   "source": [
    "from langgraph.graph import StateGraph , START,END\n",
    "from typing import TypedDict, Dict,List\n",
    "from IPython.display import Image,display"
   ]
  },
  {
   "cell_type": "code",
   "execution_count": 3,
   "id": "8e2b1d77-c448-4ed4-845d-d310e681a1f9",
   "metadata": {},
   "outputs": [],
   "source": [
    "class AgentState(TypedDict):\n",
    "    num1:int\n",
    "    num2:int\n",
    "    result:int"
   ]
  },
  {
   "cell_type": "code",
   "execution_count": 4,
   "id": "b4906335-b057-41a5-b63c-058db5303cea",
   "metadata": {},
   "outputs": [],
   "source": [
    "def add_val(state:AgentState)->AgentState:\n",
    "    state['result'] = state['num1']+state['num2']\n",
    "    return state"
   ]
  },
  {
   "cell_type": "code",
   "execution_count": 13,
   "id": "fa1cb847-02f9-4136-a1c8-8174bd80998f",
   "metadata": {},
   "outputs": [],
   "source": [
    "graph = StateGraph(AgentState)\n",
    "\n",
    "graph.add_node('add_number',add_val)\n",
    "graph.set_entry_point('add_number')\n",
    "graph.set_finish_point('add_number')\n",
    "app = graph.compile()"
   ]
  },
  {
   "cell_type": "code",
   "execution_count": 15,
   "id": "1d864abf-0104-4f0e-8524-6071bfce35a8",
   "metadata": {},
   "outputs": [
    {
     "data": {
      "image/png": "[encoded data removed]",
      "text/plain": [
       "<IPython.core.display.Image object>"
      ]
     },
     "metadata": {},
     "output_type": "display_data"
    }
   ],
   "source": [
    "display(Image(app.get_graph().draw_mermaid_png()))"
   ]
  },
  {
   "cell_type": "code",
   "execution_count": 16,
   "id": "c8cb5af9-c1b3-4cc5-967d-16cba47452c2",
   "metadata": {},
   "outputs": [
    {
     "data": {
      "text/plain": [
       "{'num1': 1, 'num2': 3, 'result': 4}"
      ]
     },
     "execution_count": 16,
     "metadata": {},
     "output_type": "execute_result"
    }
   ],
   "source": [
    "app.invoke({'num1':1,'num2':3})"
   ]
  },
  {
   "cell_type": "code",
   "execution_count": 17,
   "id": "7afc1c67-bb96-4c73-8ceb-2fecfa82e144",
   "metadata": {},
   "outputs": [],
   "source": [
    "# flow check "
   ]
  },
  {
   "cell_type": "code",
   "execution_count": 36,
   "id": "c50b8b48-fa6f-4828-aa3d-9372157a7291",
   "metadata": {},
   "outputs": [],
   "source": [
    "from typing import TypedDict , List , Dict,Annotated \n",
    "from langgraph.graph import StateGraph , START,END\n",
    "\n",
    "import operator"
   ]
  },
  {
   "cell_type": "code",
   "execution_count": 51,
   "id": "c8e33cd9-a682-4d3b-aa3a-4831972901ad",
   "metadata": {},
   "outputs": [],
   "source": [
    "class AgentState(TypedDict):\n",
    "    values:Annotated[list, operator.add]\n",
    "    num1:Annotated[int, operator.add]\n",
    "    num2:Annotated[int, operator.add]\n",
    "    greet:Annotated[str, operator.add]\n",
    "    result:Annotated[int, operator.add]\n",
    "    final_val:Annotated[str,operator.add]\n",
    "\n",
    "    "
   ]
  },
  {
   "cell_type": "code",
   "execution_count": 61,
   "id": "9f7c0186-4ede-402b-9f0a-087d49cc4cb1",
   "metadata": {},
   "outputs": [],
   "source": [
    "def add_val(state:AgentState)->AgentState:\n",
    "    print(f\" add_val node : {state}\")\n",
    "    state['values']= [x for x in range(1,10)]\n",
    "    return state\n",
    "\n",
    "def addition(state:AgentState) ->AgentState:\n",
    "    print(f\" addition node : {state}\")\n",
    "    state['result']= state['num1']+state['num2']\n",
    "    return state\n",
    "\n",
    "def greet(state:AgentState)->AgentState:\n",
    "    print(f\" greet node : {state}\")\n",
    "    state['greet'] = f\"hello world I am AI\"\n",
    "\n",
    "    print(f\" greet node : {state}\")\n",
    "    return state\n",
    "\n",
    "def combine(state:AgentState)->AgentState:\n",
    "    print(f\" combine node : {state}\")\n",
    "    state['final_val'] =f\" {state['greet']}  the sum is :  {state['result']} and the values is : {state['values']}\"\n",
    "\n",
    "    print(f\" combine node : {state}\")\n",
    "\n",
    "    return state\n",
    "\n",
    "\n",
    "graph = StateGraph(AgentState)\n",
    "\n",
    "graph.add_node('greeting',greet)\n",
    "graph.add_node('addition',addition)\n",
    "graph.add_node('add_val',add_val)\n",
    "graph.add_node('combine',combine)\n",
    "\n",
    "graph.add_edge(START,'greeting')\n",
    "graph.add_edge(START,'addition')\n",
    "graph.add_edge(START,'add_val')\n",
    "graph.add_edge('addition','combine')\n",
    "graph.add_edge('greeting','combine')\n",
    "graph.add_edge('add_val','combine')\n",
    "graph.add_edge('combine',END)\n",
    "\n",
    "app = graph.compile()"
   ]
  },
  {
   "cell_type": "code",
   "execution_count": 62,
   "id": "147fdb61-b7fd-438c-8d69-cdd6bf279c34",
   "metadata": {},
   "outputs": [
    {
     "data": {
      "image/png": "[encoded data removed]",
      "text/plain": [
       "<IPython.core.display.Image object>"
      ]
     },
     "metadata": {},
     "output_type": "display_data"
    }
   ],
   "source": [
    "display(Image(app.get_graph().draw_mermaid_png()))"
   ]
  },
  {
   "cell_type": "code",
   "execution_count": 63,
   "id": "1c9fb48f-b245-4063-a5cb-e412e5a7a353",
   "metadata": {},
   "outputs": [
    {
     "name": "stdout",
     "output_type": "stream",
     "text": [
      " add_val node : {'values': [], 'num1': 1, 'num2': 3, 'greet': '', 'result': 0, 'final_val': ''}\n",
      " addition node : {'values': [], 'num1': 1, 'num2': 3, 'greet': '', 'result': 0, 'final_val': ''}\n",
      " greet node : {'values': [], 'num1': 1, 'num2': 3, 'greet': '', 'result': 0, 'final_val': ''}\n",
      " greet node : {'values': [], 'num1': 1, 'num2': 3, 'greet': 'hello world I am AI', 'result': 0, 'final_val': ''}\n",
      " combine node : {'values': [1, 2, 3, 4, 5, 6, 7, 8, 9], 'num1': 4, 'num2': 12, 'greet': 'hello world I am AI', 'result': 4, 'final_val': ''}\n",
      " combine node : {'values': [1, 2, 3, 4, 5, 6, 7, 8, 9], 'num1': 4, 'num2': 12, 'greet': 'hello world I am AI', 'result': 4, 'final_val': ' hello world I am AI  the sum is :  4 and the values is : [1, 2, 3, 4, 5, 6, 7, 8, 9]'}\n"
     ]
    },
    {
     "data": {
      "text/plain": [
       "{'values': [1, 2, 3, 4, 5, 6, 7, 8, 9, 1, 2, 3, 4, 5, 6, 7, 8, 9],\n",
       " 'num1': 8,\n",
       " 'num2': 24,\n",
       " 'greet': 'hello world I am AIhello world I am AI',\n",
       " 'result': 8,\n",
       " 'final_val': ' hello world I am AI  the sum is :  4 and the values is : [1, 2, 3, 4, 5, 6, 7, 8, 9]'}"
      ]
     },
     "execution_count": 63,
     "metadata": {},
     "output_type": "execute_result"
    }
   ],
   "source": [
    "app.invoke({'num1':1,'num2':3})"
   ]
  },
  {
   "cell_type": "code",
   "execution_count": null,
   "id": "d5f4d971-ffc3-4fe9-b823-f8d5aab939ae",
   "metadata": {},
   "outputs": [],
   "source": []
  }
 ],
 "metadata": {
  "kernelspec": {
   "display_name": "Python 3 (ipykernel)",
   "language": "python",
   "name": "python3"
  },
  "language_info": {
   "codemirror_mode": {
    "name": "ipython",
    "version": 3
   },
   "file_extension": ".py",
   "mimetype": "text/x-python",
   "name": "python",
   "nbconvert_exporter": "python",
   "pygments_lexer": "ipython3",
   "version": "3.13.3"
  }
 },
 "nbformat": 4,
 "nbformat_minor": 5
}
